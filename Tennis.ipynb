{
 "cells": [
  {
   "cell_type": "markdown",
   "metadata": {},
   "source": [
    "# Collaboration and Competition\n",
    "\n",
    "---\n",
    "\n",
    "In this notebook, you will learn how to use the Unity ML-Agents environment for the third project of the [Deep Reinforcement Learning Nanodegree](https://www.udacity.com/course/deep-reinforcement-learning-nanodegree--nd893) program.\n",
    "\n",
    "### 1. Start the Environment\n",
    "\n",
    "We begin by importing the necessary packages.  If the code cell below returns an error, please revisit the project instructions to double-check that you have installed [Unity ML-Agents](https://github.com/Unity-Technologies/ml-agents/blob/master/docs/Installation.md) and [NumPy](http://www.numpy.org/)."
   ]
  },
  {
   "cell_type": "code",
   "execution_count": 1,
   "metadata": {},
   "outputs": [],
   "source": [
    "from unityagents import UnityEnvironment\n",
    "import numpy as np"
   ]
  },
  {
   "cell_type": "code",
   "execution_count": 9,
   "metadata": {},
   "outputs": [],
   "source": [
    "from importlib import reload\n",
    "import maddpg\n",
    "reload(maddpg)\n",
    "from maddpg import MADDPG\n",
    "import torch\n",
    "from collections import deque"
   ]
  },
  {
   "cell_type": "markdown",
   "metadata": {},
   "source": [
    "Next, we will start the environment!  **_Before running the code cell below_**, change the `file_name` parameter to match the location of the Unity environment that you downloaded.\n",
    "\n",
    "- **Mac**: `\"path/to/Tennis.app\"`\n",
    "- **Windows** (x86): `\"path/to/Tennis_Windows_x86/Tennis.exe\"`\n",
    "- **Windows** (x86_64): `\"path/to/Tennis_Windows_x86_64/Tennis.exe\"`\n",
    "- **Linux** (x86): `\"path/to/Tennis_Linux/Tennis.x86\"`\n",
    "- **Linux** (x86_64): `\"path/to/Tennis_Linux/Tennis.x86_64\"`\n",
    "- **Linux** (x86, headless): `\"path/to/Tennis_Linux_NoVis/Tennis.x86\"`\n",
    "- **Linux** (x86_64, headless): `\"path/to/Tennis_Linux_NoVis/Tennis.x86_64\"`\n",
    "\n",
    "For instance, if you are using a Mac, then you downloaded `Tennis.app`.  If this file is in the same folder as the notebook, then the line below should appear as follows:\n",
    "```\n",
    "env = UnityEnvironment(file_name=\"Tennis.app\")\n",
    "```"
   ]
  },
  {
   "cell_type": "code",
   "execution_count": 3,
   "metadata": {},
   "outputs": [
    {
     "name": "stdout",
     "output_type": "stream",
     "text": [
      "Mono path[0] = '/Users/olivierharel/Desktop/udacity/deep-reinforcement-learning/p3_collab-compet/Tennis.app/Contents/Resources/Data/Managed'\n",
      "Mono config path = '/Users/olivierharel/Desktop/udacity/deep-reinforcement-learning/p3_collab-compet/Tennis.app/Contents/MonoBleedingEdge/etc'\n"
     ]
    },
    {
     "name": "stderr",
     "output_type": "stream",
     "text": [
      "INFO:unityagents:\n",
      "'Academy' started successfully!\n",
      "Unity Academy name: Academy\n",
      "        Number of Brains: 1\n",
      "        Number of External Brains : 1\n",
      "        Lesson number : 0\n",
      "        Reset Parameters :\n",
      "\t\t\n",
      "Unity brain name: TennisBrain\n",
      "        Number of Visual Observations (per agent): 0\n",
      "        Vector Observation space type: continuous\n",
      "        Vector Observation space size (per agent): 8\n",
      "        Number of stacked Vector Observation: 3\n",
      "        Vector Action space type: continuous\n",
      "        Vector Action space size (per agent): 2\n",
      "        Vector Action descriptions: , \n"
     ]
    }
   ],
   "source": [
    "env = UnityEnvironment(file_name=\"/Users/olivierharel/Desktop/udacity/deep-reinforcement-learning/p3_collab-compet/Tennis.app\")"
   ]
  },
  {
   "cell_type": "markdown",
   "metadata": {},
   "source": [
    "Environments contain **_brains_** which are responsible for deciding the actions of their associated agents. Here we check for the first brain available, and set it as the default brain we will be controlling from Python."
   ]
  },
  {
   "cell_type": "code",
   "execution_count": 4,
   "metadata": {},
   "outputs": [],
   "source": [
    "# get the default brain\n",
    "brain_name = env.brain_names[0]\n",
    "brain = env.brains[brain_name]"
   ]
  },
  {
   "cell_type": "markdown",
   "metadata": {},
   "source": [
    "### 2. Examine the State and Action Spaces\n",
    "\n",
    "In this environment, two agents control rackets to bounce a ball over a net. If an agent hits the ball over the net, it receives a reward of +0.1.  If an agent lets a ball hit the ground or hits the ball out of bounds, it receives a reward of -0.01.  Thus, the goal of each agent is to keep the ball in play.\n",
    "\n",
    "The observation space consists of 8 variables corresponding to the position and velocity of the ball and racket. Two continuous actions are available, corresponding to movement toward (or away from) the net, and jumping. \n",
    "\n",
    "Run the code cell below to print some information about the environment."
   ]
  },
  {
   "cell_type": "code",
   "execution_count": 5,
   "metadata": {},
   "outputs": [
    {
     "name": "stdout",
     "output_type": "stream",
     "text": [
      "Number of agents: 2\n",
      "Size of each action: 2\n",
      "There are 2 agents. Each observes a state with length: 24\n",
      "The state for the first agent looks like: [ 0.          0.          0.          0.          0.          0.\n",
      "  0.          0.          0.          0.          0.          0.\n",
      "  0.          0.          0.          0.         -6.65278625 -1.5\n",
      " -0.          0.          6.83172083  6.         -0.          0.        ]\n",
      "The state for the second agent looks like: [ 0.          0.          0.          0.          0.          0.\n",
      "  0.          0.          0.          0.          0.          0.\n",
      "  0.          0.          0.          0.         -6.4669857  -1.5\n",
      "  0.          0.         -6.83172083  6.          0.          0.        ]\n"
     ]
    }
   ],
   "source": [
    "# reset the environment\n",
    "env_info = env.reset(train_mode=True)[brain_name]\n",
    "\n",
    "# number of agents \n",
    "num_agents = len(env_info.agents)\n",
    "print('Number of agents:', num_agents)\n",
    "\n",
    "# size of each action\n",
    "action_size = brain.vector_action_space_size\n",
    "print('Size of each action:', action_size)\n",
    "\n",
    "# examine the state space \n",
    "states = env_info.vector_observations\n",
    "state_size = states.shape[1]\n",
    "print('There are {} agents. Each observes a state with length: {}'.format(states.shape[0], state_size))\n",
    "print('The state for the first agent looks like:', states[0])\n",
    "print('The state for the second agent looks like:', states[1])"
   ]
  },
  {
   "cell_type": "markdown",
   "metadata": {},
   "source": [
    "### 3. Take Random Actions in the Environment\n",
    "\n",
    "In the next code cell, you will learn how to use the Python API to control the agents and receive feedback from the environment.\n",
    "\n",
    "Once this cell is executed, you will watch the agents' performance, if they select actions at random with each time step.  A window should pop up that allows you to observe the agents.\n",
    "\n",
    "Of course, as part of the project, you'll have to change the code so that the agents are able to use their experiences to gradually choose better actions when interacting with the environment!"
   ]
  },
  {
   "cell_type": "code",
   "execution_count": null,
   "metadata": {},
   "outputs": [],
   "source": [
    "\n",
    "for i in range(1,6):                                     # play game for 5 episodes\n",
    "    env_info = env.reset(train_mode=False)[brain_name]     # reset the environment    \n",
    "    states = env_info.vector_observations                  # get the current state (for each agent)\n",
    "    scores = np.zeros(num_agents)                          # initialize the score (for each agent)\n",
    "    while True:\n",
    "        actions = np.random.randn(num_agents, action_size) # select an action (for each agent)\n",
    "        actions = np.clip(actions, -1, 1)                  # all actions between -1 and 1\n",
    "        actions[1,:] = actions[0,:]\n",
    "        env_info = env.step(actions)[brain_name]           # send all actions to tne environment\n",
    "        next_states = env_info.vector_observations         # get next state (for each agent)\n",
    "        rewards = env_info.rewards                         # get reward (for each agent)\n",
    "        dones = env_info.local_done                        # see if episode finished\n",
    "        scores += env_info.rewards                         # update the score (for each agent)\n",
    "        states = next_states                               # roll over states to next time step\n",
    "        if np.any(dones):                                  # exit loop if episode finished\n",
    "            break\n",
    "    print('Score (max over agents) from episode {}: {}'.format(i, np.max(scores)))\n"
   ]
  },
  {
   "cell_type": "markdown",
   "metadata": {},
   "source": [
    "When finished, you can close the environment."
   ]
  },
  {
   "cell_type": "code",
   "execution_count": 10,
   "metadata": {},
   "outputs": [],
   "source": [
    "env.close()"
   ]
  },
  {
   "cell_type": "markdown",
   "metadata": {},
   "source": [
    "### 4. It's Your Turn!\n",
    "\n",
    "Now it's your turn to train your own agent to solve the environment!  When training the environment, set `train_mode=True`, so that the line for resetting the environment looks like the following:\n",
    "```python\n",
    "env_info = env.reset(train_mode=True)[brain_name]\n",
    "```"
   ]
  },
  {
   "cell_type": "code",
   "execution_count": 6,
   "metadata": {},
   "outputs": [],
   "source": [
    "# Instantiate MADDPG\n",
    "maddpg = MADDPG(num_agents, state_size, 3, action_size, random_seed=0, use_bn=False,\n",
    "                buffer_size_init = int(1e5), buffer_size_final = int(1e6), gamma = 0.99,\n",
    "                epsilon_init = 1.0, epsilon_min = 1e-2, epsilon_decay = 0.99,\n",
    "                tau_init = 1e-2, tau_min = 1e-3, tau_decay = 0.985\n",
    "                )"
   ]
  },
  {
   "cell_type": "code",
   "execution_count": 7,
   "metadata": {},
   "outputs": [],
   "source": [
    "def train_maddpg(n_episodes=200, tgt_score=[1.5,2.5,1.5], max_t=3000, trailing_average_period=100, update_period=1, training_per_update_sch=[10,2,0.05]):\n",
    "    best_episode_score_since_last_update = -max_t\n",
    "    best_mean_score = -max_t\n",
    "    best_mean_score_was_updated = False\n",
    "    scores_deque = deque(maxlen=trailing_average_period)\n",
    "    mean_scores = []\n",
    "    scores = []\n",
    "    training_per_update = training_per_update_sch[0]\n",
    "    agent_tags = np.array([1, -1]).reshape((num_agents,1))\n",
    "    print(\"Training targets:\")\n",
    "    print(\"- Run a minimum of 300 episodes\")\n",
    "    print(\"- Successful stop when episode score > {} and {}-last-episodes trailing score average > {}\".format(\n",
    "        tgt_score[1], trailing_average_period, tgt_score[2] \n",
    "    ))\n",
    "    for i_episode in range(1, n_episodes+1):\n",
    "        env_info = env.reset(train_mode=True)[brain_name]     # reset the environment    \n",
    "        states = env_info.vector_observations                 # get the current state (for each agent)\n",
    "        maddpg.reset()                                        # reset each agent's noise generator\n",
    "        ep_scores = np.zeros(num_agents)                      # initialize the score (for each agent)\n",
    "        for t in range(max_t):\n",
    "            actions = maddpg.act(states, add_noise=True)\n",
    "            env_info = env.step(actions)[brain_name]\n",
    "            next_states = env_info.vector_observations\n",
    "            rewards = env_info.rewards\n",
    "            dones = env_info.local_done\n",
    "            n_train = training_per_update if ((t%update_period) == 0) else 0\n",
    "            maddpg.step(states, actions, rewards, next_states, dones, n_train)\n",
    "            ep_scores += rewards\n",
    "            states = next_states\n",
    "            if np.any(dones):\n",
    "                break \n",
    "\n",
    "        maddpg.decay_epsilon()\n",
    "\n",
    "        # Training per update scheduler\n",
    "        nxt_training_per_update = max(training_per_update_sch[1], round(training_per_update_sch[0] - i_episode*training_per_update_sch[2]))\n",
    "        if (nxt_training_per_update != training_per_update):\n",
    "            print(\"Decreasing #trainings per update to: {}\".format(nxt_training_per_update))\n",
    "        training_per_update = nxt_training_per_update\n",
    "\n",
    "        # Average score\n",
    "        max_score  = np.max(ep_scores)\n",
    "        best_episode_score_since_last_update = max(max_score, best_episode_score_since_last_update)\n",
    "        if max_score > tgt_score[0]:\n",
    "            maddpg.decay_tau()\n",
    "            # The first time max_score > tgt_score[0], we increase the buffer size\n",
    "            # Gathered experience is then considered more meaningful and the increased size\n",
    "            # is expected to stabilize training\n",
    "            maddpg.switch_replay_buffer_size() \n",
    "\n",
    "        scores_deque.append(max_score)\n",
    "        trailing_mean_score = np.mean(scores_deque)\n",
    "        scores.append(max_score)\n",
    "        mean_scores.append(trailing_mean_score)\n",
    "        if (i_episode % 10 == 0) and best_mean_score_was_updated:\n",
    "            best_mean_score_was_updated = False\n",
    "            print('\\rEpisode {} | {}-last-episodes trailing score average: {:.3f} | Current best average: {:.3f} | Best episode score since last update: {:.3f}'.format(\n",
    "                   i_episode, trailing_average_period, np.mean(trailing_mean_score), best_mean_score, best_episode_score_since_last_update))\n",
    "            best_episode_score_since_last_update = -max_t\n",
    "\n",
    "\n",
    "        # Save weights\n",
    "        if trailing_mean_score > best_mean_score:\n",
    "            best_mean_score_was_updated = True\n",
    "            torch.save(maddpg.normalizer_local.state_dict(), 'checkpoint_normalizer.pth')\n",
    "            torch.save(maddpg.actor_local.state_dict(), 'checkpoint_actor.pth')\n",
    "            torch.save(maddpg.critic_local.state_dict(), 'checkpoint_critic.pth')\n",
    "            best_mean_score = trailing_mean_score\n",
    "        \n",
    "        # Test for completion\n",
    "        if (max_score > tgt_score[1] and trailing_mean_score > tgt_score[2]) and (i_episode >= 300):\n",
    "            print(\"MADDPG training complete\")\n",
    "            print(\"Best averaged score achieved: {:.2f}\".format(best_mean_score))\n",
    "            break\n",
    "            \n",
    "    return mean_scores, scores"
   ]
  },
  {
   "cell_type": "code",
   "execution_count": 8,
   "metadata": {},
   "outputs": [
    {
     "name": "stdout",
     "output_type": "stream",
     "text": [
      "Training targets:\n",
      "- Run a minimum of 300 episodes\n",
      "- Successful stop when episode score > 2.5 and 100-last-episodes trailing score average > 1.25\n",
      "Episode 10 | 100-last-episodes trailing score average: 0.000 | Current best average: 0.000 | Best episode score since last update: 0.000\n",
      "Decreasing #trainings per update to: 9\n",
      "Episode 20 | 100-last-episodes trailing score average: 0.005 | Current best average: 0.006 | Best episode score since last update: 0.100\n",
      "Decreasing #trainings per update to: 8\n",
      "Episode 30 | 100-last-episodes trailing score average: 0.007 | Current best average: 0.008 | Best episode score since last update: 0.100\n",
      "Episode 40 | 100-last-episodes trailing score average: 0.010 | Current best average: 0.011 | Best episode score since last update: 0.100\n",
      "Episode 50 | 100-last-episodes trailing score average: 0.018 | Current best average: 0.016 | Best episode score since last update: 0.100\n",
      "Decreasing #trainings per update to: 7\n",
      "Episode 60 | 100-last-episodes trailing score average: 0.023 | Current best average: 0.023 | Best episode score since last update: 0.100\n",
      "Decreasing #trainings per update to: 6\n",
      "Episode 70 | 100-last-episodes trailing score average: 0.028 | Current best average: 0.029 | Best episode score since last update: 0.100\n",
      "Episode 80 | 100-last-episodes trailing score average: 0.031 | Current best average: 0.031 | Best episode score since last update: 0.100\n",
      "Decreasing #trainings per update to: 5\n",
      "Episode 100 | 100-last-episodes trailing score average: 0.031 | Current best average: 0.032 | Best episode score since last update: 0.100\n",
      "Decreasing #trainings per update to: 4\n",
      "Episode 110 | 100-last-episodes trailing score average: 0.035 | Current best average: 0.034 | Best episode score since last update: 0.100\n",
      "Episode 120 | 100-last-episodes trailing score average: 0.035 | Current best average: 0.035 | Best episode score since last update: 0.100\n",
      "Episode 130 | 100-last-episodes trailing score average: 0.042 | Current best average: 0.041 | Best episode score since last update: 0.190\n",
      "Decreasing #trainings per update to: 3\n",
      "Episode 140 | 100-last-episodes trailing score average: 0.048 | Current best average: 0.047 | Best episode score since last update: 0.100\n",
      "Decreasing #trainings per update to: 2\n",
      "Episode 150 | 100-last-episodes trailing score average: 0.048 | Current best average: 0.049 | Best episode score since last update: 0.100\n",
      "Episode 160 | 100-last-episodes trailing score average: 0.047 | Current best average: 0.050 | Best episode score since last update: 0.090\n",
      "Episode 220 | 100-last-episodes trailing score average: 0.053 | Current best average: 0.053 | Best episode score since last update: 0.100\n",
      "Episode 230 | 100-last-episodes trailing score average: 0.052 | Current best average: 0.054 | Best episode score since last update: 0.100\n",
      "Episode 250 | 100-last-episodes trailing score average: 0.055 | Current best average: 0.056 | Best episode score since last update: 0.100\n",
      "Episode 260 | 100-last-episodes trailing score average: 0.061 | Current best average: 0.060 | Best episode score since last update: 0.200\n",
      "Episode 270 | 100-last-episodes trailing score average: 0.063 | Current best average: 0.064 | Best episode score since last update: 0.100\n",
      "Episode 280 | 100-last-episodes trailing score average: 0.068 | Current best average: 0.067 | Best episode score since last update: 0.190\n",
      "Episode 290 | 100-last-episodes trailing score average: 0.070 | Current best average: 0.072 | Best episode score since last update: 0.100\n",
      "Episode 320 | 100-last-episodes trailing score average: 0.073 | Current best average: 0.073 | Best episode score since last update: 0.190\n",
      "Episode 330 | 100-last-episodes trailing score average: 0.073 | Current best average: 0.073 | Best episode score since last update: 0.100\n",
      "Episode 340 | 100-last-episodes trailing score average: 0.073 | Current best average: 0.073 | Best episode score since last update: 0.100\n",
      "Episode 350 | 100-last-episodes trailing score average: 0.071 | Current best average: 0.073 | Best episode score since last update: 0.100\n",
      "Episode 360 | 100-last-episodes trailing score average: 0.069 | Current best average: 0.073 | Best episode score since last update: 0.100\n",
      "Episode 380 | 100-last-episodes trailing score average: 0.072 | Current best average: 0.075 | Best episode score since last update: 0.300\n",
      "Episode 390 | 100-last-episodes trailing score average: 0.076 | Current best average: 0.076 | Best episode score since last update: 0.300\n",
      "Episode 400 | 100-last-episodes trailing score average: 0.080 | Current best average: 0.081 | Best episode score since last update: 0.200\n",
      "Episode 410 | 100-last-episodes trailing score average: 0.086 | Current best average: 0.086 | Best episode score since last update: 0.400\n",
      "Episode 420 | 100-last-episodes trailing score average: 0.087 | Current best average: 0.087 | Best episode score since last update: 0.190\n",
      "Episode 430 | 100-last-episodes trailing score average: 0.090 | Current best average: 0.090 | Best episode score since last update: 0.300\n",
      "Episode 440 | 100-last-episodes trailing score average: 0.093 | Current best average: 0.095 | Best episode score since last update: 0.390\n",
      "Episode 450 | 100-last-episodes trailing score average: 0.097 | Current best average: 0.097 | Best episode score since last update: 0.300\n",
      "Episode 460 | 100-last-episodes trailing score average: 0.105 | Current best average: 0.105 | Best episode score since last update: 0.300\n",
      "Episode 470 | 100-last-episodes trailing score average: 0.108 | Current best average: 0.107 | Best episode score since last update: 0.200\n",
      "Episode 480 | 100-last-episodes trailing score average: 0.115 | Current best average: 0.115 | Best episode score since last update: 0.300\n",
      "Episode 490 | 100-last-episodes trailing score average: 0.122 | Current best average: 0.121 | Best episode score since last update: 0.300\n",
      "Episode 500 | 100-last-episodes trailing score average: 0.128 | Current best average: 0.127 | Best episode score since last update: 0.300\n",
      "Episode 510 | 100-last-episodes trailing score average: 0.129 | Current best average: 0.131 | Best episode score since last update: 0.200\n",
      "Episode 520 | 100-last-episodes trailing score average: 0.133 | Current best average: 0.131 | Best episode score since last update: 0.300\n",
      "Episode 530 | 100-last-episodes trailing score average: 0.143 | Current best average: 0.143 | Best episode score since last update: 0.490\n",
      "Episode 540 | 100-last-episodes trailing score average: 0.143 | Current best average: 0.145 | Best episode score since last update: 0.200\n",
      "Episode 550 | 100-last-episodes trailing score average: 0.148 | Current best average: 0.147 | Best episode score since last update: 0.300\n",
      "Episode 560 | 100-last-episodes trailing score average: 0.141 | Current best average: 0.148 | Best episode score since last update: 0.200\n",
      "Episode 610 | 100-last-episodes trailing score average: 0.148 | Current best average: 0.149 | Best episode score since last update: 0.390\n",
      "Episode 620 | 100-last-episodes trailing score average: 0.152 | Current best average: 0.155 | Best episode score since last update: 0.300\n",
      "Episode 640 | 100-last-episodes trailing score average: 0.169 | Current best average: 0.164 | Best episode score since last update: 0.700\n",
      "Episode 650 | 100-last-episodes trailing score average: 0.181 | Current best average: 0.179 | Best episode score since last update: 0.500\n",
      "Episode 660 | 100-last-episodes trailing score average: 0.205 | Current best average: 0.205 | Best episode score since last update: 0.600\n",
      "Switching replay buffer size from 100000 to 1000000\n",
      "Episode 670 | 100-last-episodes trailing score average: 0.279 | Current best average: 0.275 | Best episode score since last update: 2.600\n",
      "Episode 680 | 100-last-episodes trailing score average: 0.357 | Current best average: 0.345 | Best episode score since last update: 2.600\n",
      "Episode 690 | 100-last-episodes trailing score average: 0.399 | Current best average: 0.400 | Best episode score since last update: 1.500\n",
      "Episode 700 | 100-last-episodes trailing score average: 0.459 | Current best average: 0.460 | Best episode score since last update: 2.200\n",
      "Episode 710 | 100-last-episodes trailing score average: 0.489 | Current best average: 0.489 | Best episode score since last update: 0.800\n",
      "Episode 720 | 100-last-episodes trailing score average: 0.511 | Current best average: 0.510 | Best episode score since last update: 1.300\n",
      "Episode 730 | 100-last-episodes trailing score average: 0.522 | Current best average: 0.520 | Best episode score since last update: 0.400\n",
      "Episode 740 | 100-last-episodes trailing score average: 0.532 | Current best average: 0.536 | Best episode score since last update: 1.000\n",
      "Episode 750 | 100-last-episodes trailing score average: 0.578 | Current best average: 0.578 | Best episode score since last update: 2.300\n",
      "Episode 760 | 100-last-episodes trailing score average: 0.620 | Current best average: 0.610 | Best episode score since last update: 1.990\n",
      "Episode 770 | 100-last-episodes trailing score average: 0.611 | Current best average: 0.627 | Best episode score since last update: 2.200\n",
      "Episode 780 | 100-last-episodes trailing score average: 0.603 | Current best average: 0.631 | Best episode score since last update: 2.600\n",
      "Episode 810 | 100-last-episodes trailing score average: 0.682 | Current best average: 0.679 | Best episode score since last update: 2.600\n",
      "Episode 820 | 100-last-episodes trailing score average: 0.709 | Current best average: 0.709 | Best episode score since last update: 1.900\n",
      "Episode 830 | 100-last-episodes trailing score average: 0.732 | Current best average: 0.732 | Best episode score since last update: 1.690\n",
      "Episode 840 | 100-last-episodes trailing score average: 0.757 | Current best average: 0.755 | Best episode score since last update: 2.500\n",
      "Episode 850 | 100-last-episodes trailing score average: 0.770 | Current best average: 0.787 | Best episode score since last update: 1.800\n",
      "Episode 900 | 100-last-episodes trailing score average: 0.781 | Current best average: 0.795 | Best episode score since last update: 2.600\n",
      "Episode 920 | 100-last-episodes trailing score average: 0.834 | Current best average: 0.817 | Best episode score since last update: 2.600\n",
      "Episode 930 | 100-last-episodes trailing score average: 0.886 | Current best average: 0.871 | Best episode score since last update: 2.600\n",
      "Episode 940 | 100-last-episodes trailing score average: 0.993 | Current best average: 0.974 | Best episode score since last update: 2.600\n",
      "Episode 950 | 100-last-episodes trailing score average: 1.072 | Current best average: 1.054 | Best episode score since last update: 2.600\n",
      "Episode 960 | 100-last-episodes trailing score average: 1.213 | Current best average: 1.209 | Best episode score since last update: 2.700\n",
      "MADDPG training complete\n",
      "Best averaged score achieved: 1.26\n"
     ]
    }
   ],
   "source": [
    "mean_scores, scores = train_maddpg(n_episodes = 2000, tgt_score=[1.5,2.5,1.25])\n",
    "env.close()\n"
   ]
  },
  {
   "cell_type": "code",
   "execution_count": 9,
   "metadata": {},
   "outputs": [
    {
     "data": {
      "image/png": "[encoded data removed]",
      "text/plain": [
       "<Figure size 432x288 with 1 Axes>"
      ]
     },
     "metadata": {
      "needs_background": "light"
     },
     "output_type": "display_data"
    }
   ],
   "source": [
    "import matplotlib.pyplot as plt\n",
    "%matplotlib inline\n",
    "fig = plt.figure()\n",
    "ax = fig.add_subplot(111)\n",
    "plt.plot(np.arange(1, len(scores)+1), scores, color='b',label='Per episode')\n",
    "plt.plot(np.arange(1, len(mean_scores)+1), mean_scores, color='r', label='Average score')\n",
    "plt.ylabel('Score')\n",
    "plt.xlabel('Episode #')\n",
    "plt.legend()\n",
    "plt.show()"
   ]
  },
  {
   "cell_type": "markdown",
   "metadata": {},
   "source": [
    "The normalizer coefficients printed below (each column maps to each agent) show that state variables #0, #1, #2, $#6 are shared\n",
    "by the agents why they have opposite perspectives (opposite signs) on variables #3, #4, #5, and #7."
   ]
  },
  {
   "cell_type": "code",
   "execution_count": 17,
   "metadata": {},
   "outputs": [
    {
     "name": "stdout",
     "output_type": "stream",
     "text": [
      "tensor([[ 1.0472,  1.1035],\n",
      "        [-1.0080, -1.0143],\n",
      "        [ 1.0028,  1.0003],\n",
      "        [-1.0086,  0.9990],\n",
      "        [-0.9130,  0.8948],\n",
      "        [ 0.9527, -0.9373],\n",
      "        [-1.0050, -1.0078],\n",
      "        [-1.0085,  0.9990]])\n"
     ]
    }
   ],
   "source": [
    "print(torch.load('checkpoint_normalizer.pth')['fc.weight'].data.cpu())"
   ]
  },
  {
   "cell_type": "markdown",
   "metadata": {},
   "source": [
    "### 5. Replay of trained actor (multi agent)"
   ]
  },
  {
   "cell_type": "code",
   "execution_count": null,
   "metadata": {},
   "outputs": [],
   "source": [
    "maddpg = MADDPG(num_agents, state_size, 3, action_size, 0)\n",
    "maddpg.actor_local.load_state_dict(torch.load('checkpoint_actor.pth'))\n",
    "maddpg.normalizer_local.load_state_dict(torch.load('checkpoint_normalizer.pth'))\n",
    "\n",
    "env_info = env.reset(train_mode=False)[brain_name]     # reset the environment    \n",
    "states = env_info.vector_observations                  # get the current state (for each agent)\n",
    "maddpg.reset()                                        # reset each agent's noise generator\n",
    "scores_replay = np.zeros(num_agents)                          # initialize the score (for each agent)\n",
    "while True:\n",
    "    actions = maddpg.act(states, add_noise=False)\n",
    "    env_info = env.step(actions)[brain_name]           # send all actions to tne environment\n",
    "    next_states = env_info.vector_observations         # get next state (for each agent)\n",
    "    rewards = env_info.rewards                         # get reward (for each agent)\n",
    "    dones = env_info.local_done                        # see if episode finished\n",
    "    scores_replay += env_info.rewards                         # update the score (for each agent)\n",
    "    states = next_states                               # roll over states to next time step\n",
    "    if np.any(dones):                                  # exit loop if episode finished\n",
    "        break\n",
    "print('Score (max over agents) from episode {}: {}'.format(i, np.max(scores_replay)))\n"
   ]
  }
 ],
 "metadata": {
  "kernelspec": {
   "display_name": "Python 3.8.13 ('drlnd')",
   "language": "python",
   "name": "python3"
  },
  "language_info": {
   "codemirror_mode": {
    "name": "ipython",
    "version": 3
   },
   "file_extension": ".py",
   "mimetype": "text/x-python",
   "name": "python",
   "nbconvert_exporter": "python",
   "pygments_lexer": "ipython3",
   "version": "3.8.13"
  },
  "vscode": {
   "interpreter": {
    "hash": "2c458aefcedec99052606723328b985fbd2c296e91b36c9562c4635531fb2e91"
   }
  }
 },
 "nbformat": 4,
 "nbformat_minor": 2
}
